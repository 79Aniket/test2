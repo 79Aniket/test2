{
 "cells": [
  {
   "cell_type": "code",
   "execution_count": 1,
   "id": "68e63ea2-58f3-4ed6-82ec-8c8d2a16737b",
   "metadata": {},
   "outputs": [],
   "source": [
    "d = {}"
   ]
  },
  {
   "cell_type": "code",
   "execution_count": 2,
   "id": "7322a461-f096-4b0f-a49d-5c461082cafc",
   "metadata": {},
   "outputs": [
    {
     "data": {
      "text/plain": [
       "dict"
      ]
     },
     "execution_count": 2,
     "metadata": {},
     "output_type": "execute_result"
    }
   ],
   "source": [
    "type(d)"
   ]
  },
  {
   "cell_type": "code",
   "execution_count": 3,
   "id": "f2224c95-82ee-459c-89df-7428a1bdc3e5",
   "metadata": {},
   "outputs": [],
   "source": [
    "d1 = {\"key\" : \"dictionay\"}"
   ]
  },
  {
   "cell_type": "code",
   "execution_count": 4,
   "id": "8060a02f-1d12-4b0d-b962-6becdcc780db",
   "metadata": {},
   "outputs": [
    {
     "data": {
      "text/plain": [
       "{'key': 'dictionay'}"
      ]
     },
     "execution_count": 4,
     "metadata": {},
     "output_type": "execute_result"
    }
   ],
   "source": [
    "d1"
   ]
  },
  {
   "cell_type": "code",
   "execution_count": 5,
   "id": "981f9f79-7502-4542-ba33-da2e63996be6",
   "metadata": {},
   "outputs": [],
   "source": [
    "d2 = {\"name\" : \"aniket\", \"email\" : \"aniketstudent1@gmail.com\", \"unmber\" : 7903531536}"
   ]
  },
  {
   "cell_type": "code",
   "execution_count": 6,
   "id": "04a54aa2-e08b-47f9-a2f9-f3fc4e93da49",
   "metadata": {},
   "outputs": [
    {
     "data": {
      "text/plain": [
       "{'name': 'aniket', 'email': 'aniketstudent1@gmail.com', 'unmber': 7903531536}"
      ]
     },
     "execution_count": 6,
     "metadata": {},
     "output_type": "execute_result"
    }
   ],
   "source": [
    "d2"
   ]
  },
  {
   "cell_type": "code",
   "execution_count": 8,
   "id": "ea4feb77-15d4-4cf4-bd7e-5eee25c1d87d",
   "metadata": {},
   "outputs": [],
   "source": [
    "d3 = {1586 : \"aniket\",\"_ak\" : \"sharma\", True : 56263 }"
   ]
  },
  {
   "cell_type": "code",
   "execution_count": 9,
   "id": "648fdf57-831c-44ee-b22c-96a4c70df672",
   "metadata": {},
   "outputs": [
    {
     "data": {
      "text/plain": [
       "{1586: 'aniket', '_ak': 'sharma', True: 56263}"
      ]
     },
     "execution_count": 9,
     "metadata": {},
     "output_type": "execute_result"
    }
   ],
   "source": [
    "d3"
   ]
  },
  {
   "cell_type": "code",
   "execution_count": 10,
   "id": "5a185131-4427-4216-9bc0-5ddb5cb29cdc",
   "metadata": {},
   "outputs": [
    {
     "data": {
      "text/plain": [
       "'aniket'"
      ]
     },
     "execution_count": 10,
     "metadata": {},
     "output_type": "execute_result"
    }
   ],
   "source": [
    "d3[1586]"
   ]
  },
  {
   "cell_type": "code",
   "execution_count": 11,
   "id": "2f0c3494-b610-49f8-b04d-d9e50928cad9",
   "metadata": {},
   "outputs": [
    {
     "data": {
      "text/plain": [
       "56263"
      ]
     },
     "execution_count": 11,
     "metadata": {},
     "output_type": "execute_result"
    }
   ],
   "source": [
    "d3[True]"
   ]
  },
  {
   "cell_type": "code",
   "execution_count": 12,
   "id": "cb06ba2e-3e95-47b8-ab87-c86b8e6aba85",
   "metadata": {},
   "outputs": [
    {
     "data": {
      "text/plain": [
       "56263"
      ]
     },
     "execution_count": 12,
     "metadata": {},
     "output_type": "execute_result"
    }
   ],
   "source": [
    "d3[1]"
   ]
  },
  {
   "cell_type": "code",
   "execution_count": 19,
   "id": "74440614-82ea-4a0f-8b8e-ce8c4d6c586f",
   "metadata": {},
   "outputs": [],
   "source": [
    "d4 = {\"name\": \"kumar\", \"gmail\": \"aniket\", \"name\": \"love\"}"
   ]
  },
  {
   "cell_type": "code",
   "execution_count": 20,
   "id": "8c9aeaf5-2219-4fd9-ae9d-96034b91ee41",
   "metadata": {},
   "outputs": [
    {
     "data": {
      "text/plain": [
       "'love'"
      ]
     },
     "execution_count": 20,
     "metadata": {},
     "output_type": "execute_result"
    }
   ],
   "source": [
    "d4[\"name\"]"
   ]
  },
  {
   "cell_type": "code",
   "execution_count": 22,
   "id": "ac1d0aec-33a5-4cc5-803b-543c7c183736",
   "metadata": {},
   "outputs": [],
   "source": [
    "d5 = {\"company\" : \"pwskills\", \"course\" : [\"web dev\",  \"data science\",  \"java with das system design\"]}"
   ]
  },
  {
   "cell_type": "code",
   "execution_count": 23,
   "id": "9a2c7ac6-58df-4ed3-a652-e84b886d322e",
   "metadata": {},
   "outputs": [
    {
     "data": {
      "text/plain": [
       "{'company': 'pwskills',\n",
       " 'course': ['web dev', 'data science', 'java with das system design']}"
      ]
     },
     "execution_count": 23,
     "metadata": {},
     "output_type": "execute_result"
    }
   ],
   "source": [
    "d5"
   ]
  },
  {
   "cell_type": "code",
   "execution_count": 24,
   "id": "4c97b0ea-9d73-4c0c-b6eb-1492219a3fff",
   "metadata": {},
   "outputs": [
    {
     "data": {
      "text/plain": [
       "['web dev', 'data science', 'java with das system design']"
      ]
     },
     "execution_count": 24,
     "metadata": {},
     "output_type": "execute_result"
    }
   ],
   "source": [
    "d5[\"course\"]"
   ]
  },
  {
   "cell_type": "code",
   "execution_count": 25,
   "id": "b73dc5a0-0ae6-4d37-9b27-c98e186a85d9",
   "metadata": {},
   "outputs": [
    {
     "data": {
      "text/plain": [
       "'java with das system design'"
      ]
     },
     "execution_count": 25,
     "metadata": {},
     "output_type": "execute_result"
    }
   ],
   "source": [
    "d5[\"course\"][2]"
   ]
  },
  {
   "cell_type": "code",
   "execution_count": 30,
   "id": "7f3f1b8c-390a-4ed7-8457-d06571c72247",
   "metadata": {},
   "outputs": [],
   "source": [
    "d6 = {\"number\": [1,233,6,] , \" assignment\" : (2,9,7,3,), \"time date\" : {2,9,7,23}, \"class time\" :{\"web dev\" :7, \"java with das system design\" : 8, \"data science\" : 9 }}"
   ]
  },
  {
   "cell_type": "code",
   "execution_count": 31,
   "id": "17d94632-6e0f-4257-8d84-fb0f7059fbcc",
   "metadata": {},
   "outputs": [
    {
     "data": {
      "text/plain": [
       "{'number': [1, 233, 6],\n",
       " ' assignment': (2, 9, 7, 3),\n",
       " 'time date': {2, 7, 9, 23},\n",
       " 'class time': {'web dev': 7,\n",
       "  'java with das system design': 8,\n",
       "  'data science': 9}}"
      ]
     },
     "execution_count": 31,
     "metadata": {},
     "output_type": "execute_result"
    }
   ],
   "source": [
    "d6"
   ]
  },
  {
   "cell_type": "code",
   "execution_count": 5,
   "id": "db861b72-c372-4fb0-b941-d3646938c177",
   "metadata": {},
   "outputs": [],
   "source": [
    "d7 = {\"number\": [1,233,6,] , \" assignment\" : (2,9,7,3,), \"time date\" : {2,9,7,23}, \"class time\" :{\"web dev\" :7, \"java with das system design\" : 8, \"data science\" : 9 }}"
   ]
  },
  {
   "cell_type": "code",
   "execution_count": 6,
   "id": "d0c55409-dec9-4e01-8da9-604c34b0b09a",
   "metadata": {},
   "outputs": [
    {
     "data": {
      "text/plain": [
       "{'number': [1, 233, 6],\n",
       " ' assignment': (2, 9, 7, 3),\n",
       " 'time date': {2, 7, 9, 23},\n",
       " 'class time': {'web dev': 7,\n",
       "  'java with das system design': 8,\n",
       "  'data science': 9}}"
      ]
     },
     "execution_count": 6,
     "metadata": {},
     "output_type": "execute_result"
    }
   ],
   "source": [
    "d7"
   ]
  },
  {
   "cell_type": "code",
   "execution_count": 18,
   "id": "e14c4a47-2ab5-4cff-931e-f12beefea11e",
   "metadata": {},
   "outputs": [
    {
     "ename": "KeyError",
     "evalue": "'web dev'",
     "output_type": "error",
     "traceback": [
      "\u001b[0;31m---------------------------------------------------------------------------\u001b[0m",
      "\u001b[0;31mKeyError\u001b[0m                                  Traceback (most recent call last)",
      "Cell \u001b[0;32mIn[18], line 1\u001b[0m\n\u001b[0;32m----> 1\u001b[0m \u001b[43md7\u001b[49m\u001b[43m[\u001b[49m\u001b[38;5;124;43m\"\u001b[39;49m\u001b[38;5;124;43mweb dev\u001b[39;49m\u001b[38;5;124;43m\"\u001b[39;49m\u001b[43m]\u001b[49m\n",
      "\u001b[0;31mKeyError\u001b[0m: 'web dev'"
     ]
    }
   ],
   "source": [
    "d7[\"web dev\"]"
   ]
  },
  {
   "cell_type": "code",
   "execution_count": null,
   "id": "ba0cdf84-677f-4116-95c0-5d95c84d3e4b",
   "metadata": {},
   "outputs": [],
   "source": []
  },
  {
   "cell_type": "code",
   "execution_count": 19,
   "id": "35273258-29e1-4cb5-9383-a7fec727e73f",
   "metadata": {},
   "outputs": [
    {
     "data": {
      "text/plain": [
       "{'number': [1, 233, 6],\n",
       " ' assignment': (2, 9, 7, 3),\n",
       " 'time date': {2, 7, 9, 23},\n",
       " 'class time': {'web dev': 7,\n",
       "  'java with das system design': 8,\n",
       "  'data science': 9}}"
      ]
     },
     "execution_count": 19,
     "metadata": {},
     "output_type": "execute_result"
    }
   ],
   "source": [
    "d7"
   ]
  },
  {
   "cell_type": "code",
   "execution_count": 20,
   "id": "4bcbbab2-742c-4bee-88e9-40fc80565537",
   "metadata": {},
   "outputs": [
    {
     "data": {
      "text/plain": [
       "9"
      ]
     },
     "execution_count": 20,
     "metadata": {},
     "output_type": "execute_result"
    }
   ],
   "source": [
    "d7[\"class time\"][\"data science\"]"
   ]
  },
  {
   "cell_type": "code",
   "execution_count": 21,
   "id": "14824e1e-c288-41f6-8fa2-07dbb6734098",
   "metadata": {},
   "outputs": [
    {
     "data": {
      "text/plain": [
       "{'number': [1, 233, 6],\n",
       " ' assignment': (2, 9, 7, 3),\n",
       " 'time date': {2, 7, 9, 23},\n",
       " 'class time': {'web dev': 7,\n",
       "  'java with das system design': 8,\n",
       "  'data science': 9}}"
      ]
     },
     "execution_count": 21,
     "metadata": {},
     "output_type": "execute_result"
    }
   ],
   "source": [
    "d7"
   ]
  },
  {
   "cell_type": "code",
   "execution_count": 22,
   "id": "cee85260-216b-4a05-a128-b8bf5bd7ecd8",
   "metadata": {},
   "outputs": [],
   "source": [
    "d7[\"teacher\"] = [\"ravi\", \"kumar\", \"prince\"]"
   ]
  },
  {
   "cell_type": "code",
   "execution_count": 23,
   "id": "75035505-bd1c-4814-bde6-2e0ef99899d1",
   "metadata": {},
   "outputs": [
    {
     "data": {
      "text/plain": [
       "{'number': [1, 233, 6],\n",
       " ' assignment': (2, 9, 7, 3),\n",
       " 'time date': {2, 7, 9, 23},\n",
       " 'class time': {'web dev': 7,\n",
       "  'java with das system design': 8,\n",
       "  'data science': 9},\n",
       " 'teacher': ['ravi', 'kumar', 'prince']}"
      ]
     },
     "execution_count": 23,
     "metadata": {},
     "output_type": "execute_result"
    }
   ],
   "source": [
    "d7"
   ]
  },
  {
   "cell_type": "code",
   "execution_count": 25,
   "id": "bd300673-ddd7-4cfd-8e6c-27f6e7e08847",
   "metadata": {},
   "outputs": [],
   "source": [
    "del d7[\"number\"]"
   ]
  },
  {
   "cell_type": "code",
   "execution_count": 26,
   "id": "eb5f432d-cace-4167-a654-33247306c2ae",
   "metadata": {},
   "outputs": [
    {
     "data": {
      "text/plain": [
       "{' assignment': (2, 9, 7, 3),\n",
       " 'time date': {2, 7, 9, 23},\n",
       " 'class time': {'web dev': 7,\n",
       "  'java with das system design': 8,\n",
       "  'data science': 9},\n",
       " 'teacher': ['ravi', 'kumar', 'prince']}"
      ]
     },
     "execution_count": 26,
     "metadata": {},
     "output_type": "execute_result"
    }
   ],
   "source": [
    "d7"
   ]
  },
  {
   "cell_type": "code",
   "execution_count": 27,
   "id": "625deae2-48b3-412a-943f-87f882db302f",
   "metadata": {},
   "outputs": [
    {
     "data": {
      "text/plain": [
       "dict_keys([' assignment', 'time date', 'class time', 'teacher'])"
      ]
     },
     "execution_count": 27,
     "metadata": {},
     "output_type": "execute_result"
    }
   ],
   "source": [
    "d7.keys()"
   ]
  },
  {
   "cell_type": "code",
   "execution_count": 28,
   "id": "0fb1b565-c210-4520-89f8-9affe9a02795",
   "metadata": {},
   "outputs": [
    {
     "data": {
      "text/plain": [
       "[' assignment', 'time date', 'class time', 'teacher']"
      ]
     },
     "execution_count": 28,
     "metadata": {},
     "output_type": "execute_result"
    }
   ],
   "source": [
    "list(d7.keys())"
   ]
  },
  {
   "cell_type": "code",
   "execution_count": 29,
   "id": "2e00d167-35a2-4ca0-ac3a-c0fbfd92bee0",
   "metadata": {},
   "outputs": [
    {
     "data": {
      "text/plain": [
       "dict_values([(2, 9, 7, 3), {9, 2, 7, 23}, {'web dev': 7, 'java with das system design': 8, 'data science': 9}, ['ravi', 'kumar', 'prince']])"
      ]
     },
     "execution_count": 29,
     "metadata": {},
     "output_type": "execute_result"
    }
   ],
   "source": [
    "d7.values()"
   ]
  },
  {
   "cell_type": "code",
   "execution_count": 30,
   "id": "9581ce88-2369-4234-8efa-96f5a03d6c1e",
   "metadata": {},
   "outputs": [
    {
     "data": {
      "text/plain": [
       "[(2, 9, 7, 3),\n",
       " {2, 7, 9, 23},\n",
       " {'web dev': 7, 'java with das system design': 8, 'data science': 9},\n",
       " ['ravi', 'kumar', 'prince']]"
      ]
     },
     "execution_count": 30,
     "metadata": {},
     "output_type": "execute_result"
    }
   ],
   "source": [
    "list(d7.values())"
   ]
  },
  {
   "cell_type": "code",
   "execution_count": 31,
   "id": "cd07c6f7-7215-4dbe-a4c1-c46447ae3cbf",
   "metadata": {},
   "outputs": [
    {
     "data": {
      "text/plain": [
       "dict_items([(' assignment', (2, 9, 7, 3)), ('time date', {9, 2, 7, 23}), ('class time', {'web dev': 7, 'java with das system design': 8, 'data science': 9}), ('teacher', ['ravi', 'kumar', 'prince'])])"
      ]
     },
     "execution_count": 31,
     "metadata": {},
     "output_type": "execute_result"
    }
   ],
   "source": [
    "d7.items()"
   ]
  },
  {
   "cell_type": "code",
   "execution_count": 32,
   "id": "b13c546a-fe35-404c-8284-59309ef029bc",
   "metadata": {},
   "outputs": [
    {
     "data": {
      "text/plain": [
       "[(' assignment', (2, 9, 7, 3)),\n",
       " ('time date', {2, 7, 9, 23}),\n",
       " ('class time',\n",
       "  {'web dev': 7, 'java with das system design': 8, 'data science': 9}),\n",
       " ('teacher', ['ravi', 'kumar', 'prince'])]"
      ]
     },
     "execution_count": 32,
     "metadata": {},
     "output_type": "execute_result"
    }
   ],
   "source": [
    "list(d7.items())"
   ]
  },
  {
   "cell_type": "code",
   "execution_count": 34,
   "id": "fddf5d94-1d56-403d-b493-ffd3fd15ade3",
   "metadata": {},
   "outputs": [
    {
     "data": {
      "text/plain": [
       "{' assignment': (2, 9, 7, 3),\n",
       " 'time date': {2, 7, 9, 23},\n",
       " 'class time': {'web dev': 7,\n",
       "  'java with das system design': 8,\n",
       "  'data science': 9},\n",
       " 'teacher': ['ravi', 'kumar', 'prince']}"
      ]
     },
     "execution_count": 34,
     "metadata": {},
     "output_type": "execute_result"
    }
   ],
   "source": [
    "d7 "
   ]
  },
  {
   "cell_type": "code",
   "execution_count": 36,
   "id": "764cdf1f-7888-4192-aa90-9bbbac909ecc",
   "metadata": {},
   "outputs": [
    {
     "data": {
      "text/plain": [
       "{2, 7, 9, 23}"
      ]
     },
     "execution_count": 36,
     "metadata": {},
     "output_type": "execute_result"
    }
   ],
   "source": [
    "d7.pop(\"time date\")"
   ]
  },
  {
   "cell_type": "code",
   "execution_count": 37,
   "id": "56b25cb6-2e3a-4ff4-a897-32c6ddd38bb0",
   "metadata": {},
   "outputs": [
    {
     "data": {
      "text/plain": [
       "{' assignment': (2, 9, 7, 3),\n",
       " 'class time': {'web dev': 7,\n",
       "  'java with das system design': 8,\n",
       "  'data science': 9},\n",
       " 'teacher': ['ravi', 'kumar', 'prince']}"
      ]
     },
     "execution_count": 37,
     "metadata": {},
     "output_type": "execute_result"
    }
   ],
   "source": [
    "d7"
   ]
  },
  {
   "cell_type": "code",
   "execution_count": null,
   "id": "6a863daa-5c08-4bdc-9b70-c92f646f898e",
   "metadata": {},
   "outputs": [],
   "source": []
  }
 ],
 "metadata": {
  "kernelspec": {
   "display_name": "Python 3 (ipykernel)",
   "language": "python",
   "name": "python3"
  },
  "language_info": {
   "codemirror_mode": {
    "name": "ipython",
    "version": 3
   },
   "file_extension": ".py",
   "mimetype": "text/x-python",
   "name": "python",
   "nbconvert_exporter": "python",
   "pygments_lexer": "ipython3",
   "version": "3.10.8"
  }
 },
 "nbformat": 4,
 "nbformat_minor": 5
}
